{
 "cells": [
  {
   "cell_type": "code",
   "execution_count": 2,
   "metadata": {},
   "outputs": [],
   "source": [
    "# Basics\n",
    "\n",
    "import pandas as pd\n",
    "import numpy as np\n",
    "\n",
    "# Visualization \n",
    "\n",
    "import matplotlib.pyplot as plt\n",
    "import seaborn as sns\n",
    "%matplotlib inline\n",
    "\n",
    "# Sampling // Classifer // Metrics \n",
    "\n",
    "import sklearn\n",
    "from sklearn.linear_model import LinearRegression\n"
   ]
  },
  {
   "cell_type": "code",
   "execution_count": 3,
   "metadata": {},
   "outputs": [
    {
     "data": {
      "text/html": [
       "<div>\n",
       "<style scoped>\n",
       "    .dataframe tbody tr th:only-of-type {\n",
       "        vertical-align: middle;\n",
       "    }\n",
       "\n",
       "    .dataframe tbody tr th {\n",
       "        vertical-align: top;\n",
       "    }\n",
       "\n",
       "    .dataframe thead th {\n",
       "        text-align: right;\n",
       "    }\n",
       "</style>\n",
       "<table border=\"1\" class=\"dataframe\">\n",
       "  <thead>\n",
       "    <tr style=\"text-align: right;\">\n",
       "      <th></th>\n",
       "      <th>App</th>\n",
       "      <th>Category</th>\n",
       "      <th>Rating</th>\n",
       "      <th>Reviews</th>\n",
       "      <th>SizeMB</th>\n",
       "      <th>Installations</th>\n",
       "      <th>Paid</th>\n",
       "      <th>Price$</th>\n",
       "      <th>Content Rating</th>\n",
       "      <th>LastUp</th>\n",
       "      <th>Current Ver</th>\n",
       "      <th>Android Ver</th>\n",
       "    </tr>\n",
       "  </thead>\n",
       "  <tbody>\n",
       "    <tr>\n",
       "      <th>0</th>\n",
       "      <td>Photo Editor &amp; Candy Camera &amp; Grid &amp; ScrapBook</td>\n",
       "      <td>ART_AND_DESIGN</td>\n",
       "      <td>4.1</td>\n",
       "      <td>159</td>\n",
       "      <td>19.0</td>\n",
       "      <td>10000</td>\n",
       "      <td>0</td>\n",
       "      <td>0.0</td>\n",
       "      <td>Everyone</td>\n",
       "      <td>2018-01-07</td>\n",
       "      <td>1.0.0</td>\n",
       "      <td>4.0.3 and up</td>\n",
       "    </tr>\n",
       "    <tr>\n",
       "      <th>1</th>\n",
       "      <td>Coloring book moana</td>\n",
       "      <td>ART_AND_DESIGN</td>\n",
       "      <td>3.9</td>\n",
       "      <td>967</td>\n",
       "      <td>14.0</td>\n",
       "      <td>500000</td>\n",
       "      <td>0</td>\n",
       "      <td>0.0</td>\n",
       "      <td>Everyone</td>\n",
       "      <td>2018-01-15</td>\n",
       "      <td>2.0.0</td>\n",
       "      <td>4.0.3 and up</td>\n",
       "    </tr>\n",
       "    <tr>\n",
       "      <th>2</th>\n",
       "      <td>U Launcher Lite ƒ?? FREE Live Cool Themes, Hid...</td>\n",
       "      <td>ART_AND_DESIGN</td>\n",
       "      <td>4.7</td>\n",
       "      <td>87510</td>\n",
       "      <td>8.7</td>\n",
       "      <td>5000000</td>\n",
       "      <td>0</td>\n",
       "      <td>0.0</td>\n",
       "      <td>Everyone</td>\n",
       "      <td>2018-08-01</td>\n",
       "      <td>1.2.4</td>\n",
       "      <td>4.0.3 and up</td>\n",
       "    </tr>\n",
       "    <tr>\n",
       "      <th>3</th>\n",
       "      <td>Sketch - Draw &amp; Paint</td>\n",
       "      <td>ART_AND_DESIGN</td>\n",
       "      <td>4.5</td>\n",
       "      <td>215644</td>\n",
       "      <td>25.0</td>\n",
       "      <td>50000000</td>\n",
       "      <td>0</td>\n",
       "      <td>0.0</td>\n",
       "      <td>Teen</td>\n",
       "      <td>2018-06-08</td>\n",
       "      <td>Varies with device</td>\n",
       "      <td>4.2 and up</td>\n",
       "    </tr>\n",
       "    <tr>\n",
       "      <th>4</th>\n",
       "      <td>Pixel Draw - Number Art Coloring Book</td>\n",
       "      <td>ART_AND_DESIGN</td>\n",
       "      <td>4.3</td>\n",
       "      <td>967</td>\n",
       "      <td>2.8</td>\n",
       "      <td>100000</td>\n",
       "      <td>0</td>\n",
       "      <td>0.0</td>\n",
       "      <td>Everyone</td>\n",
       "      <td>2018-06-20</td>\n",
       "      <td>1.1</td>\n",
       "      <td>4.4 and up</td>\n",
       "    </tr>\n",
       "  </tbody>\n",
       "</table>\n",
       "</div>"
      ],
      "text/plain": [
       "                                                 App        Category  Rating  \\\n",
       "0     Photo Editor & Candy Camera & Grid & ScrapBook  ART_AND_DESIGN     4.1   \n",
       "1                                Coloring book moana  ART_AND_DESIGN     3.9   \n",
       "2  U Launcher Lite ƒ?? FREE Live Cool Themes, Hid...  ART_AND_DESIGN     4.7   \n",
       "3                              Sketch - Draw & Paint  ART_AND_DESIGN     4.5   \n",
       "4              Pixel Draw - Number Art Coloring Book  ART_AND_DESIGN     4.3   \n",
       "\n",
       "   Reviews  SizeMB  Installations  Paid  Price$ Content Rating     LastUp  \\\n",
       "0      159    19.0          10000     0     0.0       Everyone 2018-01-07   \n",
       "1      967    14.0         500000     0     0.0       Everyone 2018-01-15   \n",
       "2    87510     8.7        5000000     0     0.0       Everyone 2018-08-01   \n",
       "3   215644    25.0       50000000     0     0.0           Teen 2018-06-08   \n",
       "4      967     2.8         100000     0     0.0       Everyone 2018-06-20   \n",
       "\n",
       "          Current Ver   Android Ver  \n",
       "0               1.0.0  4.0.3 and up  \n",
       "1               2.0.0  4.0.3 and up  \n",
       "2               1.2.4  4.0.3 and up  \n",
       "3  Varies with device    4.2 and up  \n",
       "4                 1.1    4.4 and up  "
      ]
     },
     "execution_count": 3,
     "metadata": {},
     "output_type": "execute_result"
    }
   ],
   "source": [
    "location = \"../daBootcamp/dataSets/googlePlayStorexlsx.xlsx\"\n",
    "\n",
    "df = pd.read_excel(location)\n",
    "\n",
    "df.head(5)"
   ]
  },
  {
   "cell_type": "code",
   "execution_count": 3,
   "metadata": {},
   "outputs": [
    {
     "data": {
      "text/html": [
       "<div>\n",
       "<style scoped>\n",
       "    .dataframe tbody tr th:only-of-type {\n",
       "        vertical-align: middle;\n",
       "    }\n",
       "\n",
       "    .dataframe tbody tr th {\n",
       "        vertical-align: top;\n",
       "    }\n",
       "\n",
       "    .dataframe thead th {\n",
       "        text-align: right;\n",
       "    }\n",
       "</style>\n",
       "<table border=\"1\" class=\"dataframe\">\n",
       "  <thead>\n",
       "    <tr style=\"text-align: right;\">\n",
       "      <th></th>\n",
       "      <th>Rating</th>\n",
       "      <th>Reviews</th>\n",
       "      <th>SizeMB</th>\n",
       "      <th>Installations</th>\n",
       "      <th>Paid</th>\n",
       "      <th>Price$</th>\n",
       "    </tr>\n",
       "  </thead>\n",
       "  <tbody>\n",
       "    <tr>\n",
       "      <th>count</th>\n",
       "      <td>9143.000000</td>\n",
       "      <td>9.143000e+03</td>\n",
       "      <td>9143.000000</td>\n",
       "      <td>9.143000e+03</td>\n",
       "      <td>9143.000000</td>\n",
       "      <td>9143.000000</td>\n",
       "    </tr>\n",
       "    <tr>\n",
       "      <th>mean</th>\n",
       "      <td>3.527901</td>\n",
       "      <td>2.491031e+05</td>\n",
       "      <td>21.520263</td>\n",
       "      <td>7.116393e+06</td>\n",
       "      <td>0.079186</td>\n",
       "      <td>1.184625</td>\n",
       "    </tr>\n",
       "    <tr>\n",
       "      <th>std</th>\n",
       "      <td>1.590539</td>\n",
       "      <td>1.716394e+06</td>\n",
       "      <td>22.589790</td>\n",
       "      <td>4.619850e+07</td>\n",
       "      <td>0.270044</td>\n",
       "      <td>17.357643</td>\n",
       "    </tr>\n",
       "    <tr>\n",
       "      <th>min</th>\n",
       "      <td>0.000000</td>\n",
       "      <td>0.000000e+00</td>\n",
       "      <td>0.008500</td>\n",
       "      <td>0.000000e+00</td>\n",
       "      <td>0.000000</td>\n",
       "      <td>0.000000</td>\n",
       "    </tr>\n",
       "    <tr>\n",
       "      <th>25%</th>\n",
       "      <td>3.600000</td>\n",
       "      <td>2.200000e+01</td>\n",
       "      <td>4.900000</td>\n",
       "      <td>1.000000e+03</td>\n",
       "      <td>0.000000</td>\n",
       "      <td>0.000000</td>\n",
       "    </tr>\n",
       "    <tr>\n",
       "      <th>50%</th>\n",
       "      <td>4.200000</td>\n",
       "      <td>7.420000e+02</td>\n",
       "      <td>13.000000</td>\n",
       "      <td>1.000000e+05</td>\n",
       "      <td>0.000000</td>\n",
       "      <td>0.000000</td>\n",
       "    </tr>\n",
       "    <tr>\n",
       "      <th>75%</th>\n",
       "      <td>4.500000</td>\n",
       "      <td>2.506550e+04</td>\n",
       "      <td>30.000000</td>\n",
       "      <td>1.000000e+06</td>\n",
       "      <td>0.000000</td>\n",
       "      <td>0.000000</td>\n",
       "    </tr>\n",
       "    <tr>\n",
       "      <th>max</th>\n",
       "      <td>5.000000</td>\n",
       "      <td>4.489389e+07</td>\n",
       "      <td>100.000000</td>\n",
       "      <td>1.000000e+09</td>\n",
       "      <td>1.000000</td>\n",
       "      <td>400.000000</td>\n",
       "    </tr>\n",
       "  </tbody>\n",
       "</table>\n",
       "</div>"
      ],
      "text/plain": [
       "            Rating       Reviews       SizeMB  Installations         Paid  \\\n",
       "count  9143.000000  9.143000e+03  9143.000000   9.143000e+03  9143.000000   \n",
       "mean      3.527901  2.491031e+05    21.520263   7.116393e+06     0.079186   \n",
       "std       1.590539  1.716394e+06    22.589790   4.619850e+07     0.270044   \n",
       "min       0.000000  0.000000e+00     0.008500   0.000000e+00     0.000000   \n",
       "25%       3.600000  2.200000e+01     4.900000   1.000000e+03     0.000000   \n",
       "50%       4.200000  7.420000e+02    13.000000   1.000000e+05     0.000000   \n",
       "75%       4.500000  2.506550e+04    30.000000   1.000000e+06     0.000000   \n",
       "max       5.000000  4.489389e+07   100.000000   1.000000e+09     1.000000   \n",
       "\n",
       "            Price$  \n",
       "count  9143.000000  \n",
       "mean      1.184625  \n",
       "std      17.357643  \n",
       "min       0.000000  \n",
       "25%       0.000000  \n",
       "50%       0.000000  \n",
       "75%       0.000000  \n",
       "max     400.000000  "
      ]
     },
     "execution_count": 3,
     "metadata": {},
     "output_type": "execute_result"
    }
   ],
   "source": [
    "## what do my numeric variables look like?\n",
    "\n",
    "df.describe()"
   ]
  },
  {
   "cell_type": "code",
   "execution_count": 4,
   "metadata": {},
   "outputs": [
    {
     "data": {
      "text/plain": [
       "(9143, 12)"
      ]
     },
     "execution_count": 4,
     "metadata": {},
     "output_type": "execute_result"
    }
   ],
   "source": [
    "# number of rows and number of columns\n",
    "df.shape"
   ]
  },
  {
   "cell_type": "code",
   "execution_count": 7,
   "metadata": {},
   "outputs": [
    {
     "data": {
      "text/plain": [
       "Index(['App', 'Category', 'Rating', 'Reviews', 'SizeMB', 'Installations',\n",
       "       'Paid', 'Price$', 'Content Rating', 'LastUp', 'Current Ver',\n",
       "       'Android Ver'],\n",
       "      dtype='object')"
      ]
     },
     "execution_count": 7,
     "metadata": {},
     "output_type": "execute_result"
    }
   ],
   "source": [
    "#column names?\n",
    "\n",
    "df.columns"
   ]
  },
  {
   "cell_type": "code",
   "execution_count": 5,
   "metadata": {},
   "outputs": [
    {
     "data": {
      "text/plain": [
       "App               0\n",
       "Category          0\n",
       "Rating            0\n",
       "Reviews           0\n",
       "SizeMB            0\n",
       "Installations     0\n",
       "Paid              0\n",
       "Price$            0\n",
       "Content Rating    0\n",
       "LastUp            0\n",
       "Current Ver       8\n",
       "Android Ver       2\n",
       "dtype: int64"
      ]
     },
     "execution_count": 5,
     "metadata": {},
     "output_type": "execute_result"
    }
   ],
   "source": [
    "#find columns that have missing values\n",
    "\n",
    "df.isnull().sum()"
   ]
  },
  {
   "cell_type": "code",
   "execution_count": 6,
   "metadata": {},
   "outputs": [
    {
     "data": {
      "text/plain": [
       "App               0\n",
       "Category          0\n",
       "Rating            0\n",
       "Reviews           0\n",
       "SizeMB            0\n",
       "Installations     0\n",
       "Paid              0\n",
       "Price$            0\n",
       "Content Rating    0\n",
       "LastUp            0\n",
       "Current Ver       0\n",
       "Android Ver       0\n",
       "dtype: int64"
      ]
     },
     "execution_count": 6,
     "metadata": {},
     "output_type": "execute_result"
    }
   ],
   "source": [
    "#Remove null values from the dateset\n",
    "\n",
    "removeNulls= df.dropna()\n",
    "removeNulls.shape\n",
    "\n",
    "removeNulls.isnull().sum()"
   ]
  },
  {
   "cell_type": "code",
   "execution_count": 7,
   "metadata": {},
   "outputs": [
    {
     "data": {
      "text/html": [
       "<div>\n",
       "<style scoped>\n",
       "    .dataframe tbody tr th:only-of-type {\n",
       "        vertical-align: middle;\n",
       "    }\n",
       "\n",
       "    .dataframe tbody tr th {\n",
       "        vertical-align: top;\n",
       "    }\n",
       "\n",
       "    .dataframe thead th {\n",
       "        text-align: right;\n",
       "    }\n",
       "</style>\n",
       "<table border=\"1\" class=\"dataframe\">\n",
       "  <thead>\n",
       "    <tr style=\"text-align: right;\">\n",
       "      <th></th>\n",
       "      <th>App</th>\n",
       "      <th>Rating</th>\n",
       "      <th>Reviews</th>\n",
       "      <th>Installations</th>\n",
       "      <th>Price$</th>\n",
       "      <th>Content Rating</th>\n",
       "    </tr>\n",
       "  </thead>\n",
       "  <tbody>\n",
       "    <tr>\n",
       "      <th>0</th>\n",
       "      <td>Photo Editor &amp; Candy Camera &amp; Grid &amp; ScrapBook</td>\n",
       "      <td>4.1</td>\n",
       "      <td>159</td>\n",
       "      <td>10000</td>\n",
       "      <td>0.0</td>\n",
       "      <td>Everyone</td>\n",
       "    </tr>\n",
       "    <tr>\n",
       "      <th>1</th>\n",
       "      <td>Coloring book moana</td>\n",
       "      <td>3.9</td>\n",
       "      <td>967</td>\n",
       "      <td>500000</td>\n",
       "      <td>0.0</td>\n",
       "      <td>Everyone</td>\n",
       "    </tr>\n",
       "    <tr>\n",
       "      <th>2</th>\n",
       "      <td>U Launcher Lite ƒ?? FREE Live Cool Themes, Hid...</td>\n",
       "      <td>4.7</td>\n",
       "      <td>87510</td>\n",
       "      <td>5000000</td>\n",
       "      <td>0.0</td>\n",
       "      <td>Everyone</td>\n",
       "    </tr>\n",
       "    <tr>\n",
       "      <th>3</th>\n",
       "      <td>Sketch - Draw &amp; Paint</td>\n",
       "      <td>4.5</td>\n",
       "      <td>215644</td>\n",
       "      <td>50000000</td>\n",
       "      <td>0.0</td>\n",
       "      <td>Teen</td>\n",
       "    </tr>\n",
       "    <tr>\n",
       "      <th>4</th>\n",
       "      <td>Pixel Draw - Number Art Coloring Book</td>\n",
       "      <td>4.3</td>\n",
       "      <td>967</td>\n",
       "      <td>100000</td>\n",
       "      <td>0.0</td>\n",
       "      <td>Everyone</td>\n",
       "    </tr>\n",
       "  </tbody>\n",
       "</table>\n",
       "</div>"
      ],
      "text/plain": [
       "                                                 App  Rating  Reviews  \\\n",
       "0     Photo Editor & Candy Camera & Grid & ScrapBook     4.1      159   \n",
       "1                                Coloring book moana     3.9      967   \n",
       "2  U Launcher Lite ƒ?? FREE Live Cool Themes, Hid...     4.7    87510   \n",
       "3                              Sketch - Draw & Paint     4.5   215644   \n",
       "4              Pixel Draw - Number Art Coloring Book     4.3      967   \n",
       "\n",
       "   Installations  Price$ Content Rating  \n",
       "0          10000     0.0       Everyone  \n",
       "1         500000     0.0       Everyone  \n",
       "2        5000000     0.0       Everyone  \n",
       "3       50000000     0.0           Teen  \n",
       "4         100000     0.0       Everyone  "
      ]
     },
     "execution_count": 7,
     "metadata": {},
     "output_type": "execute_result"
    }
   ],
   "source": [
    "# let's focus only on the variables we want for the analyses\n",
    "\n",
    "modeldf = removeNulls.drop(['Category','SizeMB','LastUp','Paid','Current Ver', 'Android Ver'], axis=1)\n",
    "modeldf.columns\n",
    "modeldf.head()"
   ]
  },
  {
   "cell_type": "code",
   "execution_count": 14,
   "metadata": {},
   "outputs": [
    {
     "data": {
      "text/html": [
       "<div>\n",
       "<style scoped>\n",
       "    .dataframe tbody tr th:only-of-type {\n",
       "        vertical-align: middle;\n",
       "    }\n",
       "\n",
       "    .dataframe tbody tr th {\n",
       "        vertical-align: top;\n",
       "    }\n",
       "\n",
       "    .dataframe thead th {\n",
       "        text-align: right;\n",
       "    }\n",
       "</style>\n",
       "<table border=\"1\" class=\"dataframe\">\n",
       "  <thead>\n",
       "    <tr style=\"text-align: right;\">\n",
       "      <th></th>\n",
       "      <th>App</th>\n",
       "      <th>Rating</th>\n",
       "      <th>Reviews</th>\n",
       "      <th>Installations</th>\n",
       "      <th>Price$</th>\n",
       "      <th>Content Rating_Adults only 18+</th>\n",
       "      <th>Content Rating_Everyone</th>\n",
       "      <th>Content Rating_Everyone 10+</th>\n",
       "      <th>Content Rating_Mature 17+</th>\n",
       "      <th>Content Rating_Teen</th>\n",
       "    </tr>\n",
       "  </thead>\n",
       "  <tbody>\n",
       "    <tr>\n",
       "      <th>0</th>\n",
       "      <td>Photo Editor &amp; Candy Camera &amp; Grid &amp; ScrapBook</td>\n",
       "      <td>4.1</td>\n",
       "      <td>159</td>\n",
       "      <td>10000</td>\n",
       "      <td>0.0</td>\n",
       "      <td>0</td>\n",
       "      <td>1</td>\n",
       "      <td>0</td>\n",
       "      <td>0</td>\n",
       "      <td>0</td>\n",
       "    </tr>\n",
       "    <tr>\n",
       "      <th>1</th>\n",
       "      <td>Coloring book moana</td>\n",
       "      <td>3.9</td>\n",
       "      <td>967</td>\n",
       "      <td>500000</td>\n",
       "      <td>0.0</td>\n",
       "      <td>0</td>\n",
       "      <td>1</td>\n",
       "      <td>0</td>\n",
       "      <td>0</td>\n",
       "      <td>0</td>\n",
       "    </tr>\n",
       "    <tr>\n",
       "      <th>2</th>\n",
       "      <td>U Launcher Lite ƒ?? FREE Live Cool Themes, Hid...</td>\n",
       "      <td>4.7</td>\n",
       "      <td>87510</td>\n",
       "      <td>5000000</td>\n",
       "      <td>0.0</td>\n",
       "      <td>0</td>\n",
       "      <td>1</td>\n",
       "      <td>0</td>\n",
       "      <td>0</td>\n",
       "      <td>0</td>\n",
       "    </tr>\n",
       "    <tr>\n",
       "      <th>3</th>\n",
       "      <td>Sketch - Draw &amp; Paint</td>\n",
       "      <td>4.5</td>\n",
       "      <td>215644</td>\n",
       "      <td>50000000</td>\n",
       "      <td>0.0</td>\n",
       "      <td>0</td>\n",
       "      <td>0</td>\n",
       "      <td>0</td>\n",
       "      <td>0</td>\n",
       "      <td>1</td>\n",
       "    </tr>\n",
       "    <tr>\n",
       "      <th>4</th>\n",
       "      <td>Pixel Draw - Number Art Coloring Book</td>\n",
       "      <td>4.3</td>\n",
       "      <td>967</td>\n",
       "      <td>100000</td>\n",
       "      <td>0.0</td>\n",
       "      <td>0</td>\n",
       "      <td>1</td>\n",
       "      <td>0</td>\n",
       "      <td>0</td>\n",
       "      <td>0</td>\n",
       "    </tr>\n",
       "  </tbody>\n",
       "</table>\n",
       "</div>"
      ],
      "text/plain": [
       "                                                 App  Rating  Reviews  \\\n",
       "0     Photo Editor & Candy Camera & Grid & ScrapBook     4.1      159   \n",
       "1                                Coloring book moana     3.9      967   \n",
       "2  U Launcher Lite ƒ?? FREE Live Cool Themes, Hid...     4.7    87510   \n",
       "3                              Sketch - Draw & Paint     4.5   215644   \n",
       "4              Pixel Draw - Number Art Coloring Book     4.3      967   \n",
       "\n",
       "   Installations  Price$  Content Rating_Adults only 18+  \\\n",
       "0          10000     0.0                               0   \n",
       "1         500000     0.0                               0   \n",
       "2        5000000     0.0                               0   \n",
       "3       50000000     0.0                               0   \n",
       "4         100000     0.0                               0   \n",
       "\n",
       "   Content Rating_Everyone  Content Rating_Everyone 10+  \\\n",
       "0                        1                            0   \n",
       "1                        1                            0   \n",
       "2                        1                            0   \n",
       "3                        0                            0   \n",
       "4                        1                            0   \n",
       "\n",
       "   Content Rating_Mature 17+  Content Rating_Teen  \n",
       "0                          0                    0  \n",
       "1                          0                    0  \n",
       "2                          0                    0  \n",
       "3                          0                    1  \n",
       "4                          0                    0  "
      ]
     },
     "execution_count": 14,
     "metadata": {},
     "output_type": "execute_result"
    }
   ],
   "source": [
    "#dummy variables for 'Content Rating'\n",
    "modeldf = pd.get_dummies(data=modeldf, columns=['Content Rating'])\n",
    "modeldf.head()\n"
   ]
  },
  {
   "cell_type": "markdown",
   "metadata": {},
   "source": [
    "# Multiple linear regression"
   ]
  },
  {
   "cell_type": "code",
   "execution_count": 8,
   "metadata": {},
   "outputs": [],
   "source": [
    "# Create a dateset which have only numerical value for the purposes of the analysis\n",
    "numdf = modeldf._get_numeric_data()\n",
    "\n",
    "# Create a new dataset which has only independent variables, remove Installations, because Installations is \n",
    "# a dependent variable\n",
    "x = numdf.drop(['Installations'], axis = 1)"
   ]
  },
  {
   "cell_type": "code",
   "execution_count": 9,
   "metadata": {},
   "outputs": [
    {
     "data": {
      "text/plain": [
       "LinearRegression(copy_X=True, fit_intercept=True, n_jobs=None,\n",
       "         normalize=False)"
      ]
     },
     "execution_count": 9,
     "metadata": {},
     "output_type": "execute_result"
    }
   ],
   "source": [
    "model = LinearRegression()\n",
    "\n",
    "# Variable X is everything in the dataset, that is not the dependent variable (the Installations)\n",
    "model.fit(x, numdf.Installations)"
   ]
  },
  {
   "cell_type": "code",
   "execution_count": 13,
   "metadata": {},
   "outputs": [
    {
     "name": "stdout",
     "output_type": "stream",
     "text": [
      "Coefficient of correlation: 0.3947333487381841\n"
     ]
    }
   ],
   "source": [
    "correlationCoeff= model.score(x,numdf.Installations)\n",
    "print('Coefficient of correlation:', correlationCoeff )\n"
   ]
  },
  {
   "cell_type": "markdown",
   "metadata": {},
   "source": [
    "# Simple linear regression"
   ]
  },
  {
   "cell_type": "code",
   "execution_count": 14,
   "metadata": {},
   "outputs": [
    {
     "data": {
      "text/plain": [
       "LinearRegression(copy_X=True, fit_intercept=True, n_jobs=None,\n",
       "         normalize=False)"
      ]
     },
     "execution_count": 14,
     "metadata": {},
     "output_type": "execute_result"
    }
   ],
   "source": [
    "# Is required to be two-dimensional, or to be more precise,\n",
    "# to have one column and as many rows as necessary\n",
    "linearModel = LinearRegression()\n",
    "\n",
    "linearModel.fit(numdf.Reviews.values.reshape((-1,1)), numdf.Installations)"
   ]
  },
  {
   "cell_type": "code",
   "execution_count": 15,
   "metadata": {},
   "outputs": [
    {
     "name": "stdout",
     "output_type": "stream",
     "text": [
      "Coefficient of correlation: 0.3947333487381841\n"
     ]
    }
   ],
   "source": [
    "simpleCorrCoeff= model.score(x,numdf.Installations)\n",
    "print('Coefficient of correlation:', simpleCorrCoeff )"
   ]
  },
  {
   "cell_type": "markdown",
   "metadata": {},
   "source": [
    "# Randomize train and test data"
   ]
  },
  {
   "cell_type": "code",
   "execution_count": 26,
   "metadata": {},
   "outputs": [
    {
     "name": "stdout",
     "output_type": "stream",
     "text": [
      "(6119, 3)\n",
      "(3014, 3)\n",
      "(6119,)\n",
      "(3014,)\n"
     ]
    }
   ],
   "source": [
    "#test_size  = 0.33\n",
    "x_train, x_test, y_train, y_test = sklearn.model_selection.train_test_split(\n",
    "    x, numdf.Installations, test_size=0.33, random_state = 5)\n",
    "print(x_train.shape)\n",
    "print(x_test.shape)\n",
    "print(y_train.shape)\n",
    "print(y_test.shape)"
   ]
  },
  {
   "cell_type": "code",
   "execution_count": 27,
   "metadata": {},
   "outputs": [
    {
     "data": {
      "text/plain": [
       "array([3.73549196e+06, 5.85142061e+04, 3.97252235e+06, ...,\n",
       "       2.87458112e+06, 7.66138076e+07, 5.85893031e+04])"
      ]
     },
     "execution_count": 27,
     "metadata": {},
     "output_type": "execute_result"
    }
   ],
   "source": [
    "# fit a model\n",
    "lm = LinearRegression()\n",
    "fitModel = lm.fit(x_train, y_train)\n",
    "predictions = lm.predict(x_test)\n",
    "\n",
    "predictions"
   ]
  },
  {
   "cell_type": "code",
   "execution_count": null,
   "metadata": {},
   "outputs": [],
   "source": [
    "# Plot the model"
   ]
  },
  {
   "cell_type": "code",
   "execution_count": 30,
   "metadata": {},
   "outputs": [
    {
     "data": {
      "image/png": "[encoded data removed]",
      "text/plain": [
       "<Figure size 432x288 with 1 Axes>"
      ]
     },
     "metadata": {
      "needs_background": "light"
     },
     "output_type": "display_data"
    }
   ],
   "source": [
    "## The line / model\n",
    "plt.scatter(y_test, predictions)\n",
    "plt.xlabel('True Values')\n",
    "plt.ylabel('Predictions')\n",
    "plt.title('Relationship between True values and Predictions') \n",
    "plt.show()\n",
    "         "
   ]
  },
  {
   "cell_type": "code",
   "execution_count": null,
   "metadata": {},
   "outputs": [],
   "source": []
  }
 ],
 "metadata": {
  "kernelspec": {
   "display_name": "Python 3",
   "language": "python",
   "name": "python3"
  },
  "language_info": {
   "codemirror_mode": {
    "name": "ipython",
    "version": 3
   },
   "file_extension": ".py",
   "mimetype": "text/x-python",
   "name": "python",
   "nbconvert_exporter": "python",
   "pygments_lexer": "ipython3",
   "version": "3.7.1"
  }
 },
 "nbformat": 4,
 "nbformat_minor": 2
}
